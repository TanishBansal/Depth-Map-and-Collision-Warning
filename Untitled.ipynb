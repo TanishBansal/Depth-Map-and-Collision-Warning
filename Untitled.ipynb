{
 "cells": [
  {
   "cell_type": "code",
   "execution_count": null,
   "metadata": {},
   "outputs": [],
   "source": [
    "i = 0\n",
    "while i<198:\n",
    "    src=\"~/Images/my_image\" + str(i) + \".jpg\"\n",
    "    dst=\"~/my_image.jpg\"\n",
    "    os.rename(src,dst)\n",
    "            plt.imsave(os.path.join(output_directory, \"{}_disp\"+str(i)+\".png\".format(output_name)), disp_to_img, cmap='plasma')\n",
    "        os.remove(\"~/my_image.jpg\")\n",
    "\n",
    "        print('done!')\n",
    "        i+=1\n"
   ]
  }
 ],
 "metadata": {
  "kernelspec": {
   "display_name": "Python 3",
   "language": "python",
   "name": "python3"
  },
  "language_info": {
   "codemirror_mode": {
    "name": "ipython",
    "version": 3
   },
   "file_extension": ".py",
   "mimetype": "text/x-python",
   "name": "python",
   "nbconvert_exporter": "python",
   "pygments_lexer": "ipython3",
   "version": "3.5.2"
  }
 },
 "nbformat": 4,
 "nbformat_minor": 2
}
